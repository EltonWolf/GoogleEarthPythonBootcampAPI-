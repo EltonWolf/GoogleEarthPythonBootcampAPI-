{
  "nbformat": 4,
  "nbformat_minor": 0,
  "metadata": {
    "colab": {
      "provenance": [],
      "authorship_tag": "ABX9TyOe5EfwOUrWPaAYT0O6Q/FK",
      "include_colab_link": true
    },
    "kernelspec": {
      "name": "python3",
      "display_name": "Python 3"
    },
    "language_info": {
      "name": "python"
    }
  },
  "cells": [
    {
      "cell_type": "markdown",
      "metadata": {
        "id": "view-in-github",
        "colab_type": "text"
      },
      "source": [
        "<a href=\"https://colab.research.google.com/github/EltonWolf/GoogleEarthPythonBootcampAPI-/blob/main/Exporting_Landsat_Images.ipynb\" target=\"_parent\"><img src=\"https://colab.research.google.com/assets/colab-badge.svg\" alt=\"Open In Colab\"/></a>"
      ]
    },
    {
      "cell_type": "code",
      "execution_count": 3,
      "metadata": {
        "colab": {
          "base_uri": "https://localhost:8080/"
        },
        "id": "klBva4dO_l3J",
        "outputId": "088a06ce-9a0f-44a8-825d-49ca628fa890"
      },
      "outputs": [
        {
          "output_type": "stream",
          "name": "stdout",
          "text": [
            "To authorize access needed by Earth Engine, open the following URL in a web browser and follow the instructions. If the web browser does not start automatically, please manually browse the URL below.\n",
            "\n",
            "    https://code.earthengine.google.com/client-auth?scopes=https%3A//www.googleapis.com/auth/earthengine%20https%3A//www.googleapis.com/auth/devstorage.full_control&request_id=4M-li9sai-4YNFzbEvqGXeqANkt9zxczGp-hFcs5rWE&tc=2TzY4fKuvtiRwjzwxHAmj6GtMlsTfYZ_QOK121KQKSU&cc=TGiCY8Rmrj5Akxa2YC5SrPiST176DrW7Z9j__24caNE\n",
            "\n",
            "The authorization workflow will generate a code, which you should paste in the box below.\n",
            "Enter verification code: 4/1AfJohXn9mBt6I_1GkqDJaJOxIj3jDNqwDkt7_VvlVV-XSBFqAvJjeC0ddqU\n",
            "\n",
            "Successfully saved authorization token.\n"
          ]
        }
      ],
      "source": [
        "import ee\n",
        "\n",
        "ee.Authenticate()\n",
        "\n",
        "ee.Initialize()"
      ]
    },
    {
      "cell_type": "code",
      "source": [
        "\n",
        "#Export Images\n",
        "\n",
        "#Load Landsat Data\n",
        "Landsat8 = ee.Image('LANDSAT/LC08/C01/T1_TOA/LC08_170052_20170108').select(['B4', 'B3', 'B2'])\n",
        "\n",
        "#Create region (Santa Catarina Rectangle)\n",
        "region = ee.Geometry.Rectangle(-53.3997, -29.3669, -48.6177, -26.1587)"
      ],
      "metadata": {
        "id": "WsmuFrPoAEwU"
      },
      "execution_count": 6,
      "outputs": []
    },
    {
      "cell_type": "code",
      "source": [
        "#Export to Drive\n",
        "task = ee.batch.Export.image.toDrive(**{\n",
        "    'image' : Landsat8,\n",
        "    'description' : 'image_to_drive_example',\n",
        "    'folder' : 'Lecture_9',\n",
        "    'scale' : 30,\n",
        "    'region' : region.getInfo()['coordinates']\n",
        "})\n",
        "\n",
        "task.start()"
      ],
      "metadata": {
        "id": "Yic5EZj0CWVl"
      },
      "execution_count": 7,
      "outputs": []
    }
  ]
}