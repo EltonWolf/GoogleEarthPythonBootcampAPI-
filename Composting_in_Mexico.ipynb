{
  "nbformat": 4,
  "nbformat_minor": 0,
  "metadata": {
    "colab": {
      "provenance": [],
      "authorship_tag": "ABX9TyOUaFYDUvS1Mx0CurclVGhw",
      "include_colab_link": true
    },
    "kernelspec": {
      "name": "python3",
      "display_name": "Python 3"
    },
    "language_info": {
      "name": "python"
    }
  },
  "cells": [
    {
      "cell_type": "markdown",
      "metadata": {
        "id": "view-in-github",
        "colab_type": "text"
      },
      "source": [
        "<a href=\"https://colab.research.google.com/github/EltonWolf/GoogleEarthPythonBootcampAPI-/blob/main/Composting_in_Mexico.ipynb\" target=\"_parent\"><img src=\"https://colab.research.google.com/assets/colab-badge.svg\" alt=\"Open In Colab\"/></a>"
      ]
    },
    {
      "cell_type": "code",
      "execution_count": 1,
      "metadata": {
        "colab": {
          "base_uri": "https://localhost:8080/"
        },
        "id": "_2G-gu0gvrVT",
        "outputId": "7a5305f1-a434-4cab-b3de-659bff47da73"
      },
      "outputs": [
        {
          "output_type": "stream",
          "name": "stdout",
          "text": [
            "To authorize access needed by Earth Engine, open the following URL in a web browser and follow the instructions. If the web browser does not start automatically, please manually browse the URL below.\n",
            "\n",
            "    https://code.earthengine.google.com/client-auth?scopes=https%3A//www.googleapis.com/auth/earthengine%20https%3A//www.googleapis.com/auth/devstorage.full_control&request_id=_WmV_u_hWgA2lUzf_9CF6JAoJx-ulROmVvpokkCuUcQ&tc=foZAqFOVDZt9EmGDliQVakrhO2wq7v6-RfVFohr_1Os&cc=IxvRFLBADkhw1tm2A5LyTr0m5r_6d57qLZmu_58ZfLI\n",
            "\n",
            "The authorization workflow will generate a code, which you should paste in the box below.\n",
            "Enter verification code: 4/1AfJohXkJInqGGzIGk-eTcDoUW7JWSap_bclo8xA1IcoXf2kmz77TIULZV3I\n",
            "\n",
            "Successfully saved authorization token.\n"
          ]
        }
      ],
      "source": [
        "import ee\n",
        "ee.Authenticate()\n",
        "ee.Initialize()"
      ]
    },
    {
      "cell_type": "code",
      "source": [
        "countries = ee.FeatureCollection(\"FAO/GAUL/2015/level0\")\n",
        "Mexico = countries.filter(ee.Filter.eq(\"ADM0_NAME\", \"Mexico\"))"
      ],
      "metadata": {
        "id": "BWLbWRkC6aiS"
      },
      "execution_count": 79,
      "outputs": []
    },
    {
      "cell_type": "code",
      "source": [
        "landsat = (\n",
        "    ee.ImageCollection(\"LANDSAT/LC08/C02/T1_L2\")\n",
        "    .filterDate('2021-01-01', '2022-02-01')\n",
        "    .filterBounds(Mexico)\n",
        ")"
      ],
      "metadata": {
        "id": "9ZZcZ_yP6nFg"
      },
      "execution_count": 80,
      "outputs": []
    },
    {
      "cell_type": "code",
      "source": [
        "# Select bands needed for composite\n",
        "optical_bands = ['SR_B4', 'SR_B3', 'SR_B2']  # Adjust band names as needed\n",
        "\n",
        "# Create a function to apply scaling factors\n",
        "def apply_scale_factors(image):\n",
        "    optical = image.select(optical_bands).multiply(0.0000275).add(-0.2)\n",
        "    return image.addBands(optical, None, True)\n",
        "\n",
        "landsat_scaled = landsat.map(apply_scale_factors)"
      ],
      "metadata": {
        "id": "gGpD1PsX6qKM"
      },
      "execution_count": 81,
      "outputs": []
    },
    {
      "cell_type": "code",
      "source": [
        "\n",
        "# Create a composite\n",
        "composite = ee.Image(landsat_scaled.median())\n",
        "\n",
        "rgbVis = {\n",
        "    'bands': ['SR_B4', 'SR_B3', 'SR_B2'],  # Adjust band names as needed\n",
        "    'min': 0.0,\n",
        "    'max': 0.3,\n",
        "}"
      ],
      "metadata": {
        "id": "8S0R_Wfr6Psz"
      },
      "execution_count": 82,
      "outputs": []
    },
    {
      "cell_type": "code",
      "source": [
        "# Import the Folium library.\n",
        "import folium\n",
        "\n",
        "# Define a method for displaying Earth Engine image tiles to folium map.\n",
        "def add_ee_layer(self, ee_image_object, vis_params, name):\n",
        "    map_id_dict = ee.Image(ee_image_object).getMapId(vis_params)\n",
        "    folium.raster_layers.TileLayer(\n",
        "        tiles=map_id_dict['tile_fetcher'].url_format,\n",
        "        attr='Map Data &copy; <a href=\"https://earthengine.google.com/\">Google Earth Engine</a>',\n",
        "        name=name,\n",
        "        overlay=True,\n",
        "        control=True\n",
        "    ).add_to(self)\n",
        "\n",
        "# Add EE drawing method to folium.\n",
        "folium.Map.add_ee_layer = add_ee_layer\n",
        "\n",
        "# Create a folium map object.\n",
        "my_map = folium.Map(location=[19.4326, -99.1332], zoom_start=6)\n",
        "\n",
        "# Add the layer to the map object.\n",
        "my_map.add_ee_layer(composite, rgbVis, \"RGB\")\n",
        "\n",
        "# Add a layer control panel to the map.\n",
        "my_map.add_child(folium.LayerControl())\n",
        "\n",
        "# Display the map.\n",
        "display(my_map)\n"
      ],
      "metadata": {
        "id": "GsoFBF076Q53"
      },
      "execution_count": null,
      "outputs": []
    }
  ]
}