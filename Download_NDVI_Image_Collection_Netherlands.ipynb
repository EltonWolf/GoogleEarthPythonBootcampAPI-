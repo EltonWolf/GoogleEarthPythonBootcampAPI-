{
  "nbformat": 4,
  "nbformat_minor": 0,
  "metadata": {
    "colab": {
      "provenance": [],
      "authorship_tag": "ABX9TyOc9FAK8L2B5fBo6mWSjiWl",
      "include_colab_link": true
    },
    "kernelspec": {
      "name": "python3",
      "display_name": "Python 3"
    },
    "language_info": {
      "name": "python"
    }
  },
  "cells": [
    {
      "cell_type": "markdown",
      "metadata": {
        "id": "view-in-github",
        "colab_type": "text"
      },
      "source": [
        "<a href=\"https://colab.research.google.com/github/EltonWolf/GoogleEarthPythonBootcampAPI-/blob/main/Download_NDVI_Image_Collection_Netherlands.ipynb\" target=\"_parent\"><img src=\"https://colab.research.google.com/assets/colab-badge.svg\" alt=\"Open In Colab\"/></a>"
      ]
    },
    {
      "cell_type": "code",
      "execution_count": 1,
      "metadata": {
        "colab": {
          "base_uri": "https://localhost:8080/"
        },
        "id": "czZ8TDpnnn4j",
        "outputId": "82169ed9-92a8-495d-d6dc-187431b6ba16"
      },
      "outputs": [
        {
          "output_type": "stream",
          "name": "stdout",
          "text": [
            "To authorize access needed by Earth Engine, open the following URL in a web browser and follow the instructions. If the web browser does not start automatically, please manually browse the URL below.\n",
            "\n",
            "    https://code.earthengine.google.com/client-auth?scopes=https%3A//www.googleapis.com/auth/earthengine%20https%3A//www.googleapis.com/auth/devstorage.full_control&request_id=szZBdIVlkNQkwnLgKeqPrWgjIqp5qljfAMgz12-AzqY&tc=4h0-1yvyVBlQgEPTok-2wBJxGQZ-4Q3ZnLHy2Om8cXY&cc=KStgTQ1MtQNPEn4z9htpCddXnefFJ6uAV5SZDFW1nWw\n",
            "\n",
            "The authorization workflow will generate a code, which you should paste in the box below.\n",
            "Enter verification code: 4/1AfJohXnL8tHjV4-gbqYPPLonnzEvWIDCL9n82yNzX_VEdwfNU-l8qXVhnfU\n",
            "\n",
            "Successfully saved authorization token.\n"
          ]
        }
      ],
      "source": [
        "#Authenticate and Initialise\n",
        "import ee\n",
        "\n",
        "ee.Authenticate()\n",
        "\n",
        "ee.Initialize()"
      ]
    },
    {
      "cell_type": "code",
      "source": [
        "# Collection creation\n",
        "\n",
        "#Netherlands Geometry\n",
        "geometry = ee.Geometry.Point([5.1214, 52.3676])\n",
        "\n",
        "#location = roi.geometry().centroid().coordinates().getInfo()[::-1]\n",
        "location = geometry.coordinates().getInfo()[::-1]\n",
        "\n",
        "#Unique ee ID\n",
        "s2 = ee.ImageCollection('COPERNICUS/S2_HARMONIZED')\n",
        "rgbVis = {\n",
        "  'min': 0.0,\n",
        "  'max': 3000,\n",
        "  'bands': ['B4', 'B3', 'B2'],\n",
        "}\n",
        "\n",
        "# Write a function for Cloud masking\n",
        "def maskS2clouds(image):\n",
        "  qa = image.select('QA60')\n",
        "  cloudBitMask = 1 << 10\n",
        "  cirrusBitMask = 1 << 11\n",
        "  mask = qa.bitwiseAnd(cloudBitMask).eq(0).And(\n",
        "             qa.bitwiseAnd(cirrusBitMask).eq(0))\n",
        "  return image.updateMask(mask) \\\n",
        "      .select(\"B.*\") \\\n",
        "      .copyProperties(image, [\"system:time_start\"])\n",
        "\n",
        "filtered = s2.filter(ee.Filter.date('2020-01-01', '2020-05-01')) \\\n",
        "  .filter(ee.Filter.lt('CLOUDY_PIXEL_PERCENTAGE', 30)) \\\n",
        "  .filter(ee.Filter.bounds(geometry)) \\\n",
        "  .map(maskS2clouds)\n",
        "\n",
        "# Write a function that computes NDVI for an image and adds it as a band\n",
        "def addNDVI(image):\n",
        "  ndvi = image.normalizedDifference(['B5', 'B4']).rename('ndvi')\n",
        "  return image.addBands(ndvi)\n",
        "\n",
        "withNdvi = filtered.map(addNDVI)\n",
        "median = withNdvi.median()"
      ],
      "metadata": {
        "id": "sV-tAjiQoMww"
      },
      "execution_count": 19,
      "outputs": []
    },
    {
      "cell_type": "code",
      "source": [
        "#Displaying Maps\n",
        "\n",
        "# Import the Folium library.\n",
        "import folium\n",
        "\n",
        "# Define a method for displaying Earth Engine image tiles to folium map.\n",
        "def addLayer (self, ee_image_object, vis_params, name):\n",
        "  map_id_dict = ee.Image(ee_image_object).getMapId(vis_params)\n",
        "  folium.raster_layers.TileLayer(\n",
        "    tiles = map_id_dict['tile_fetcher'].url_format,\n",
        "    attr = 'Map Data &copy; <a href=\"https://earthengine.google.com/\">Google Earth Engine</a>',\n",
        "    name = name,\n",
        "    overlay = True,\n",
        "    control = True\n",
        "  ).add_to(self)\n",
        "\n",
        "# Add EE drawing method to folium.\n",
        "folium.Map.addLayer = addLayer\n",
        "\n",
        "# Create the map object.\n",
        "Map = folium.Map(location=location, zoom_start = 8)"
      ],
      "metadata": {
        "id": "3VWpQkgiuNv3"
      },
      "execution_count": 28,
      "outputs": []
    },
    {
      "cell_type": "code",
      "source": [
        "Map.addLayer(median, rgbVis, 'Sentinel')\n",
        "\n",
        "#Add a layer control panel to the map.\n",
        "Map.add_child(folium.LayerControl())\n",
        "\n",
        "# Display the map.\n",
        "display(Map)"
      ],
      "metadata": {
        "colab": {
          "base_uri": "https://localhost:8080/",
          "height": 808
        },
        "id": "wJj7gXDuueH5",
        "outputId": "e8b8acce-5c50-4e37-87bc-27f8781f39be"
      },
      "execution_count": 29,
      "outputs": [
        {
          "output_type": "display_data",
          "data": {
            "text/plain": [
              "<folium.folium.Map at 0x78027b80f2b0>"
            ],
            "text/html": [
              "<div style=\"width:100%;\"><div style=\"position:relative;width:100%;height:0;padding-bottom:60%;\"><span style=\"color:#565656\">Make this Notebook Trusted to load map: File -> Trust Notebook</span><iframe srcdoc=\"&lt;!DOCTYPE html&gt;\n",
              "&lt;html&gt;\n",
              "&lt;head&gt;\n",
              "    \n",
              "    &lt;meta http-equiv=&quot;content-type&quot; content=&quot;text/html; charset=UTF-8&quot; /&gt;\n",
              "    \n",
              "        &lt;script&gt;\n",
              "            L_NO_TOUCH = false;\n",
              "            L_DISABLE_3D = false;\n",
              "        &lt;/script&gt;\n",
              "    \n",
              "    &lt;style&gt;html, body {width: 100%;height: 100%;margin: 0;padding: 0;}&lt;/style&gt;\n",
              "    &lt;style&gt;#map {position:absolute;top:0;bottom:0;right:0;left:0;}&lt;/style&gt;\n",
              "    &lt;script src=&quot;https://cdn.jsdelivr.net/npm/leaflet@1.9.3/dist/leaflet.js&quot;&gt;&lt;/script&gt;\n",
              "    &lt;script src=&quot;https://code.jquery.com/jquery-1.12.4.min.js&quot;&gt;&lt;/script&gt;\n",
              "    &lt;script src=&quot;https://cdn.jsdelivr.net/npm/bootstrap@5.2.2/dist/js/bootstrap.bundle.min.js&quot;&gt;&lt;/script&gt;\n",
              "    &lt;script src=&quot;https://cdnjs.cloudflare.com/ajax/libs/Leaflet.awesome-markers/2.0.2/leaflet.awesome-markers.js&quot;&gt;&lt;/script&gt;\n",
              "    &lt;link rel=&quot;stylesheet&quot; href=&quot;https://cdn.jsdelivr.net/npm/leaflet@1.9.3/dist/leaflet.css&quot;/&gt;\n",
              "    &lt;link rel=&quot;stylesheet&quot; href=&quot;https://cdn.jsdelivr.net/npm/bootstrap@5.2.2/dist/css/bootstrap.min.css&quot;/&gt;\n",
              "    &lt;link rel=&quot;stylesheet&quot; href=&quot;https://netdna.bootstrapcdn.com/bootstrap/3.0.0/css/bootstrap.min.css&quot;/&gt;\n",
              "    &lt;link rel=&quot;stylesheet&quot; href=&quot;https://cdn.jsdelivr.net/npm/@fortawesome/fontawesome-free@6.2.0/css/all.min.css&quot;/&gt;\n",
              "    &lt;link rel=&quot;stylesheet&quot; href=&quot;https://cdnjs.cloudflare.com/ajax/libs/Leaflet.awesome-markers/2.0.2/leaflet.awesome-markers.css&quot;/&gt;\n",
              "    &lt;link rel=&quot;stylesheet&quot; href=&quot;https://cdn.jsdelivr.net/gh/python-visualization/folium/folium/templates/leaflet.awesome.rotate.min.css&quot;/&gt;\n",
              "    \n",
              "            &lt;meta name=&quot;viewport&quot; content=&quot;width=device-width,\n",
              "                initial-scale=1.0, maximum-scale=1.0, user-scalable=no&quot; /&gt;\n",
              "            &lt;style&gt;\n",
              "                #map_5efd49215ee7dec57cf152ab4e329be6 {\n",
              "                    position: relative;\n",
              "                    width: 100.0%;\n",
              "                    height: 100.0%;\n",
              "                    left: 0.0%;\n",
              "                    top: 0.0%;\n",
              "                }\n",
              "                .leaflet-container { font-size: 1rem; }\n",
              "            &lt;/style&gt;\n",
              "        \n",
              "&lt;/head&gt;\n",
              "&lt;body&gt;\n",
              "    \n",
              "    \n",
              "            &lt;div class=&quot;folium-map&quot; id=&quot;map_5efd49215ee7dec57cf152ab4e329be6&quot; &gt;&lt;/div&gt;\n",
              "        \n",
              "&lt;/body&gt;\n",
              "&lt;script&gt;\n",
              "    \n",
              "    \n",
              "            var map_5efd49215ee7dec57cf152ab4e329be6 = L.map(\n",
              "                &quot;map_5efd49215ee7dec57cf152ab4e329be6&quot;,\n",
              "                {\n",
              "                    center: [52.3676, 5.1214],\n",
              "                    crs: L.CRS.EPSG3857,\n",
              "                    zoom: 8,\n",
              "                    zoomControl: true,\n",
              "                    preferCanvas: false,\n",
              "                }\n",
              "            );\n",
              "\n",
              "            \n",
              "\n",
              "        \n",
              "    \n",
              "            var tile_layer_e313aa4790eb69393340de65f602877c = L.tileLayer(\n",
              "                &quot;https://{s}.tile.openstreetmap.org/{z}/{x}/{y}.png&quot;,\n",
              "                {&quot;attribution&quot;: &quot;Data by \\u0026copy; \\u003ca target=\\&quot;_blank\\&quot; href=\\&quot;http://openstreetmap.org\\&quot;\\u003eOpenStreetMap\\u003c/a\\u003e, under \\u003ca target=\\&quot;_blank\\&quot; href=\\&quot;http://www.openstreetmap.org/copyright\\&quot;\\u003eODbL\\u003c/a\\u003e.&quot;, &quot;detectRetina&quot;: false, &quot;maxNativeZoom&quot;: 18, &quot;maxZoom&quot;: 18, &quot;minZoom&quot;: 0, &quot;noWrap&quot;: false, &quot;opacity&quot;: 1, &quot;subdomains&quot;: &quot;abc&quot;, &quot;tms&quot;: false}\n",
              "            ).addTo(map_5efd49215ee7dec57cf152ab4e329be6);\n",
              "        \n",
              "    \n",
              "            var tile_layer_b8e0c9caa9294a946d9a502d6b6dbc70 = L.tileLayer(\n",
              "                &quot;https://earthengine.googleapis.com/v1/projects/earthengine-legacy/maps/c4ad49dfc40d22e28014fe256053b396-c709b13eabc6577d0bcbcb4f99786cdc/tiles/{z}/{x}/{y}&quot;,\n",
              "                {&quot;attribution&quot;: &quot;Map Data \\u0026copy; \\u003ca href=\\&quot;https://earthengine.google.com/\\&quot;\\u003eGoogle Earth Engine\\u003c/a\\u003e&quot;, &quot;detectRetina&quot;: false, &quot;maxNativeZoom&quot;: 18, &quot;maxZoom&quot;: 18, &quot;minZoom&quot;: 0, &quot;noWrap&quot;: false, &quot;opacity&quot;: 1, &quot;subdomains&quot;: &quot;abc&quot;, &quot;tms&quot;: false}\n",
              "            ).addTo(map_5efd49215ee7dec57cf152ab4e329be6);\n",
              "        \n",
              "    \n",
              "            var layer_control_32bc6df2a91c2f24f60cdeee0230b3f9 = {\n",
              "                base_layers : {\n",
              "                    &quot;openstreetmap&quot; : tile_layer_e313aa4790eb69393340de65f602877c,\n",
              "                },\n",
              "                overlays :  {\n",
              "                    &quot;Sentinel&quot; : tile_layer_b8e0c9caa9294a946d9a502d6b6dbc70,\n",
              "                },\n",
              "            };\n",
              "            L.control.layers(\n",
              "                layer_control_32bc6df2a91c2f24f60cdeee0230b3f9.base_layers,\n",
              "                layer_control_32bc6df2a91c2f24f60cdeee0230b3f9.overlays,\n",
              "                {&quot;autoZIndex&quot;: true, &quot;collapsed&quot;: true, &quot;position&quot;: &quot;topright&quot;}\n",
              "            ).addTo(map_5efd49215ee7dec57cf152ab4e329be6);\n",
              "        \n",
              "&lt;/script&gt;\n",
              "&lt;/html&gt;\" style=\"position:absolute;width:100%;height:100%;left:0;top:0;border:none !important;\" allowfullscreen webkitallowfullscreen mozallowfullscreen></iframe></div></div>"
            ]
          },
          "metadata": {}
        }
      ]
    },
    {
      "cell_type": "code",
      "source": [
        "#Export all Images Exports\n",
        "image_ids = withNdvi.aggregate_array('system:index').getInfo()\n",
        "print('Total images: ', len(image_ids))"
      ],
      "metadata": {
        "colab": {
          "base_uri": "https://localhost:8080/"
        },
        "id": "gY0Xi7QCvZw6",
        "outputId": "578a6721-6931-4910-b3b7-e39569f4e8ab"
      },
      "execution_count": 30,
      "outputs": [
        {
          "output_type": "stream",
          "name": "stdout",
          "text": [
            "Total images:  18\n"
          ]
        }
      ]
    },
    {
      "cell_type": "code",
      "source": [
        "# Export with 100m resolution for this demo\n",
        "for i, image_id in enumerate(image_ids):\n",
        "  image = ee.Image(withNdvi.filter(ee.Filter.eq('system:index', image_id)).first())\n",
        "  task = ee.batch.Export.image.toDrive(**{\n",
        "    'image': image.select('ndvi'),\n",
        "    'description': 'Image Export {}'.format(i+1),\n",
        "    'fileNamePrefix': image.id().getInfo(),\n",
        "    'folder':'Lecture_8',\n",
        "    'scale': 100,\n",
        "    'region': image.geometry().bounds().getInfo()['coordinates'],\n",
        "    'maxPixels': 1e10\n",
        "  })\n",
        "  task.start()\n",
        "  print('Started Task: ', i+1)"
      ],
      "metadata": {
        "colab": {
          "base_uri": "https://localhost:8080/"
        },
        "id": "Av2nGTTkx0o-",
        "outputId": "331416f7-5292-4b89-ced5-19062237ddc1"
      },
      "execution_count": 33,
      "outputs": [
        {
          "output_type": "stream",
          "name": "stdout",
          "text": [
            "Started Task:  1\n",
            "Started Task:  2\n",
            "Started Task:  3\n",
            "Started Task:  4\n",
            "Started Task:  5\n",
            "Started Task:  6\n",
            "Started Task:  7\n",
            "Started Task:  8\n",
            "Started Task:  9\n",
            "Started Task:  10\n",
            "Started Task:  11\n",
            "Started Task:  12\n",
            "Started Task:  13\n",
            "Started Task:  14\n",
            "Started Task:  15\n",
            "Started Task:  16\n",
            "Started Task:  17\n",
            "Started Task:  18\n"
          ]
        }
      ]
    }
  ]
}