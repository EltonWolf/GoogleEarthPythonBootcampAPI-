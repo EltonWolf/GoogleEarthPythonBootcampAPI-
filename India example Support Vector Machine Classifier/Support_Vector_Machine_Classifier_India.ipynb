{
  "nbformat": 4,
  "nbformat_minor": 0,
  "metadata": {
    "colab": {
      "provenance": []
    },
    "kernelspec": {
      "name": "python3",
      "display_name": "Python 3"
    },
    "language_info": {
      "name": "python"
    }
  },
  "cells": [
    {
      "cell_type": "code",
      "execution_count": 1,
      "metadata": {
        "id": "p0GvGACc86zK"
      },
      "outputs": [],
      "source": [
        "import ee"
      ]
    },
    {
      "cell_type": "code",
      "source": [
        "ee.Authenticate()\n",
        "ee.Initialize()"
      ],
      "metadata": {
        "colab": {
          "base_uri": "https://localhost:8080/"
        },
        "id": "3913VZqt8-Ts",
        "outputId": "ec28e69e-f79b-4708-e3bd-5bb4b68061e0"
      },
      "execution_count": 2,
      "outputs": [
        {
          "output_type": "stream",
          "name": "stdout",
          "text": [
            "To authorize access needed by Earth Engine, open the following URL in a web browser and follow the instructions. If the web browser does not start automatically, please manually browse the URL below.\n",
            "\n",
            "    https://code.earthengine.google.com/client-auth?scopes=https%3A//www.googleapis.com/auth/earthengine%20https%3A//www.googleapis.com/auth/devstorage.full_control&request_id=v2CokX8bvExwyj6O5oGnmeVrxPmBsAYvbvjKjtR6Fmk&tc=AMOIQukU-QCCGcJl_OM_Owb4makdqf7nN5p4vVk6R8c&cc=r-W-0kkUrNPWPUc_8m1lfu88XD0bGOvKecUWK_jmT4Y\n",
            "\n",
            "The authorization workflow will generate a code, which you should paste in the box below.\n",
            "Enter verification code: 4/1AfJohXnbTG72IOuN5l1BbMdRkVFNp7Xry3BC_eeZrIAQoW5a5LzhVkV68vQ\n",
            "\n",
            "Successfully saved authorization token.\n"
          ]
        }
      ]
    },
    {
      "cell_type": "code",
      "source": [
        "countries = ee.FeatureCollection('USDOS/LSIB_SIMPLE/2017')\n",
        "India = countries.filter(ee.Filter.eq('country_na', 'India'))"
      ],
      "metadata": {
        "id": "i5qqysmaMAuk"
      },
      "execution_count": 3,
      "outputs": []
    },
    {
      "cell_type": "code",
      "source": [
        "# Input imagery is a cloud free Landsat 8 composite\n",
        "l8 = ee.ImageCollection(\"LANDSAT/LC08/C01/T1\")\n",
        "\n",
        "# Define a smaller region of interest (ROI)\n",
        "roi = ee.Geometry.Rectangle([77, 12, 78.5, 13.5])\n",
        "l8 = l8.filterBounds(roi)\n",
        "\n",
        "image = ee.Algorithms.Landsat.simpleComposite(**{\n",
        "    'collection': l8.filterDate('2018-01-01', '2018-01-31'),\n",
        "     'asFloat': True\n",
        "})"
      ],
      "metadata": {
        "id": "4l9JCyhP9AuT"
      },
      "execution_count": 4,
      "outputs": []
    },
    {
      "cell_type": "code",
      "source": [
        "# Use these bands for prediction\n",
        "bands = ['B1', 'B2', 'B3', 'B4', 'B5','B6','B7', 'B10', 'B11']"
      ],
      "metadata": {
        "id": "gPYIBCVQ-YXO"
      },
      "execution_count": 5,
      "outputs": []
    },
    {
      "cell_type": "code",
      "source": [
        "\n",
        "\n",
        "forest1 = ee.Geometry.Polygon ([\n",
        "    [78, 13],\n",
        "    [78.2, 13],\n",
        "    [78.2, 13.2],\n",
        "    [78, 13.2],\n",
        "    [78, 13]\n",
        "])\n",
        "forest2 = ee.Geometry.Polygon ([\n",
        "    [78, 13],\n",
        "    [78.2, 13],\n",
        "    [78.2, 13.2],\n",
        "    [78, 13.2],\n",
        "    [78, 13]\n",
        "])\n",
        "\n",
        "nonforest1 =ee.Geometry.Polygon([\n",
        "    [72.5, 18.5],\n",
        "    [72.7, 18.5],\n",
        "    [72.7, 18.7],\n",
        "    [72.5, 18.7],\n",
        "    [72.5, 18.5]\n",
        "])\n",
        "nonforest2 =ee.Geometry.Polygon([\n",
        "    [72.5, 18.5],\n",
        "    [72.7, 18.5],\n",
        "    [72.7, 18.7],\n",
        "    [72.5, 18.7],\n",
        "    [72.5, 18.5]\n",
        "])"
      ],
      "metadata": {
        "id": "q6Zh9fWr-aoG"
      },
      "execution_count": 6,
      "outputs": []
    },
    {
      "cell_type": "code",
      "source": [
        "# Make a feature collection from the hand-made geometries\n",
        "polygons = ee.FeatureCollection([\n",
        "  ee.Feature(nonforest1, {'class': 0}),\n",
        "  ee.Feature(nonforest2, {'class': 0}),\n",
        "  ee.Feature(forest1, {'class': 1}),\n",
        "  ee.Feature(forest2, {'class': 1}),\n",
        "])"
      ],
      "metadata": {
        "id": "LNxE-9t0_vjr"
      },
      "execution_count": 7,
      "outputs": []
    },
    {
      "cell_type": "code",
      "source": [
        "#Get the values for all the pixels in each polygon in the training\n",
        "training = image.sampleRegions(**{\n",
        "    # Get the sample form the polygons FeatureCollection\n",
        "    'collection': polygons,\n",
        "    # Keep this list of properties from the polygons\n",
        "     'properties': ['class'],\n",
        "      #Set the scale to get Landsat pixels in the polygons\n",
        "      'scale': 60\n",
        "})"
      ],
      "metadata": {
        "id": "tQT5i7SE_ybr"
      },
      "execution_count": 8,
      "outputs": []
    },
    {
      "cell_type": "code",
      "source": [
        "# Create an SVM classifier with custom parameters\n",
        "classifier = ee.Classifier.libsvm(**{\n",
        "    'kernelType': 'RBF',\n",
        "    'gamma': 0.5,\n",
        "    'cost': 10\n",
        "})"
      ],
      "metadata": {
        "id": "M0WHKxv1_0T6"
      },
      "execution_count": 9,
      "outputs": []
    },
    {
      "cell_type": "code",
      "source": [
        "# Train the classifier\n",
        "trained = classifier.train(training, 'class', bands)\n"
      ],
      "metadata": {
        "id": "OCOn21bF_3Dx"
      },
      "execution_count": 10,
      "outputs": []
    },
    {
      "cell_type": "code",
      "source": [
        "# Classify the image\n",
        "classified = image.classify(trained)\n",
        "\n",
        "# Clip image\n",
        "clip = classified.clip(India)"
      ],
      "metadata": {
        "id": "ZY8_Fizh_4Ow"
      },
      "execution_count": 11,
      "outputs": []
    },
    {
      "cell_type": "code",
      "source": [
        "# Import the Folium library.\n",
        "import folium\n",
        "\n",
        "# Define a method for displaying Earth Engine image tiles to folium map.\n",
        "def add_ee_layer(self, ee_image_object, vis_params, name):\n",
        "  map_id_dict = ee.Image(ee_image_object).getMapId(vis_params)\n",
        "  folium.raster_layers.TileLayer(\n",
        "    tiles = map_id_dict['tile_fetcher'].url_format,\n",
        "    attr = 'Map Data &copy; <a href=\"https://earthengine.google.com/\">Google Earth Engine</a>',\n",
        "    name = name,\n",
        "    overlay = True,\n",
        "    control = True\n",
        "  ).add_to(self)\n",
        "\n",
        "# Add EE drawing method to folium.\n",
        "folium.Map.add_ee_layer = add_ee_layer\n",
        "\n",
        "# Create a folium map object.\n",
        "my_map = folium.Map(location=[12.75, 77.75], zoom_start=10)\n",
        "\n",
        "# Add the layer to the map object.\n",
        "my_map.add_ee_layer(image, {'bands': ['B4', 'B3', 'B2'], 'max': 0.5, 'gamma': 2}, \"image\")\n",
        "my_map.add_ee_layer(classified, {'min': 0, 'max': 1, 'palette': ['red', 'green']}, 'deforestation')\n",
        "\n",
        "\n",
        "# Add a layer control panel to the map.\n",
        "my_map.add_child(folium.LayerControl())\n",
        "\n",
        "# Display the map.\n",
        "display(my_map)"
      ],
      "metadata": {
        "colab": {
          "base_uri": "https://localhost:8080/",
          "height": 903
        },
        "id": "mmqNv7JqABBH",
        "outputId": "68b6521a-3b6e-4453-99c8-b2c3306f8f5d"
      },
      "execution_count": 12,
      "outputs": [
        {
          "output_type": "display_data",
          "data": {
            "text/plain": [
              "<folium.folium.Map at 0x7e8468442500>"
            ],
            "text/html": [
              "<div style=\"width:100%;\"><div style=\"position:relative;width:100%;height:0;padding-bottom:60%;\"><span style=\"color:#565656\">Make this Notebook Trusted to load map: File -> Trust Notebook</span><iframe srcdoc=\"&lt;!DOCTYPE html&gt;\n",
              "&lt;html&gt;\n",
              "&lt;head&gt;\n",
              "    \n",
              "    &lt;meta http-equiv=&quot;content-type&quot; content=&quot;text/html; charset=UTF-8&quot; /&gt;\n",
              "    \n",
              "        &lt;script&gt;\n",
              "            L_NO_TOUCH = false;\n",
              "            L_DISABLE_3D = false;\n",
              "        &lt;/script&gt;\n",
              "    \n",
              "    &lt;style&gt;html, body {width: 100%;height: 100%;margin: 0;padding: 0;}&lt;/style&gt;\n",
              "    &lt;style&gt;#map {position:absolute;top:0;bottom:0;right:0;left:0;}&lt;/style&gt;\n",
              "    &lt;script src=&quot;https://cdn.jsdelivr.net/npm/leaflet@1.9.3/dist/leaflet.js&quot;&gt;&lt;/script&gt;\n",
              "    &lt;script src=&quot;https://code.jquery.com/jquery-1.12.4.min.js&quot;&gt;&lt;/script&gt;\n",
              "    &lt;script src=&quot;https://cdn.jsdelivr.net/npm/bootstrap@5.2.2/dist/js/bootstrap.bundle.min.js&quot;&gt;&lt;/script&gt;\n",
              "    &lt;script src=&quot;https://cdnjs.cloudflare.com/ajax/libs/Leaflet.awesome-markers/2.0.2/leaflet.awesome-markers.js&quot;&gt;&lt;/script&gt;\n",
              "    &lt;link rel=&quot;stylesheet&quot; href=&quot;https://cdn.jsdelivr.net/npm/leaflet@1.9.3/dist/leaflet.css&quot;/&gt;\n",
              "    &lt;link rel=&quot;stylesheet&quot; href=&quot;https://cdn.jsdelivr.net/npm/bootstrap@5.2.2/dist/css/bootstrap.min.css&quot;/&gt;\n",
              "    &lt;link rel=&quot;stylesheet&quot; href=&quot;https://netdna.bootstrapcdn.com/bootstrap/3.0.0/css/bootstrap.min.css&quot;/&gt;\n",
              "    &lt;link rel=&quot;stylesheet&quot; href=&quot;https://cdn.jsdelivr.net/npm/@fortawesome/fontawesome-free@6.2.0/css/all.min.css&quot;/&gt;\n",
              "    &lt;link rel=&quot;stylesheet&quot; href=&quot;https://cdnjs.cloudflare.com/ajax/libs/Leaflet.awesome-markers/2.0.2/leaflet.awesome-markers.css&quot;/&gt;\n",
              "    &lt;link rel=&quot;stylesheet&quot; href=&quot;https://cdn.jsdelivr.net/gh/python-visualization/folium/folium/templates/leaflet.awesome.rotate.min.css&quot;/&gt;\n",
              "    \n",
              "            &lt;meta name=&quot;viewport&quot; content=&quot;width=device-width,\n",
              "                initial-scale=1.0, maximum-scale=1.0, user-scalable=no&quot; /&gt;\n",
              "            &lt;style&gt;\n",
              "                #map_1aff7b89f1065745e9e57e54dbd6b0e8 {\n",
              "                    position: relative;\n",
              "                    width: 100.0%;\n",
              "                    height: 100.0%;\n",
              "                    left: 0.0%;\n",
              "                    top: 0.0%;\n",
              "                }\n",
              "                .leaflet-container { font-size: 1rem; }\n",
              "            &lt;/style&gt;\n",
              "        \n",
              "&lt;/head&gt;\n",
              "&lt;body&gt;\n",
              "    \n",
              "    \n",
              "            &lt;div class=&quot;folium-map&quot; id=&quot;map_1aff7b89f1065745e9e57e54dbd6b0e8&quot; &gt;&lt;/div&gt;\n",
              "        \n",
              "&lt;/body&gt;\n",
              "&lt;script&gt;\n",
              "    \n",
              "    \n",
              "            var map_1aff7b89f1065745e9e57e54dbd6b0e8 = L.map(\n",
              "                &quot;map_1aff7b89f1065745e9e57e54dbd6b0e8&quot;,\n",
              "                {\n",
              "                    center: [12.75, 77.75],\n",
              "                    crs: L.CRS.EPSG3857,\n",
              "                    zoom: 10,\n",
              "                    zoomControl: true,\n",
              "                    preferCanvas: false,\n",
              "                }\n",
              "            );\n",
              "\n",
              "            \n",
              "\n",
              "        \n",
              "    \n",
              "            var tile_layer_00f6e0175a359d7538645c226e877e6a = L.tileLayer(\n",
              "                &quot;https://{s}.tile.openstreetmap.org/{z}/{x}/{y}.png&quot;,\n",
              "                {&quot;attribution&quot;: &quot;Data by \\u0026copy; \\u003ca target=\\&quot;_blank\\&quot; href=\\&quot;http://openstreetmap.org\\&quot;\\u003eOpenStreetMap\\u003c/a\\u003e, under \\u003ca target=\\&quot;_blank\\&quot; href=\\&quot;http://www.openstreetmap.org/copyright\\&quot;\\u003eODbL\\u003c/a\\u003e.&quot;, &quot;detectRetina&quot;: false, &quot;maxNativeZoom&quot;: 18, &quot;maxZoom&quot;: 18, &quot;minZoom&quot;: 0, &quot;noWrap&quot;: false, &quot;opacity&quot;: 1, &quot;subdomains&quot;: &quot;abc&quot;, &quot;tms&quot;: false}\n",
              "            ).addTo(map_1aff7b89f1065745e9e57e54dbd6b0e8);\n",
              "        \n",
              "    \n",
              "            var tile_layer_1ea964469bee7b08179260c2d9117866 = L.tileLayer(\n",
              "                &quot;https://earthengine.googleapis.com/v1/projects/earthengine-legacy/maps/809b90703fcadfae205d28935af25474-197a2b60cc3ede374732eec32df511f2/tiles/{z}/{x}/{y}&quot;,\n",
              "                {&quot;attribution&quot;: &quot;Map Data \\u0026copy; \\u003ca href=\\&quot;https://earthengine.google.com/\\&quot;\\u003eGoogle Earth Engine\\u003c/a\\u003e&quot;, &quot;detectRetina&quot;: false, &quot;maxNativeZoom&quot;: 18, &quot;maxZoom&quot;: 18, &quot;minZoom&quot;: 0, &quot;noWrap&quot;: false, &quot;opacity&quot;: 1, &quot;subdomains&quot;: &quot;abc&quot;, &quot;tms&quot;: false}\n",
              "            ).addTo(map_1aff7b89f1065745e9e57e54dbd6b0e8);\n",
              "        \n",
              "    \n",
              "            var tile_layer_7314e0a9d98bf9401ba10c373dcd5b24 = L.tileLayer(\n",
              "                &quot;https://earthengine.googleapis.com/v1/projects/earthengine-legacy/maps/12b3babd7ea29ae909a2c2f2bd4c092e-7ca895884595acf53e78a8268a9c321f/tiles/{z}/{x}/{y}&quot;,\n",
              "                {&quot;attribution&quot;: &quot;Map Data \\u0026copy; \\u003ca href=\\&quot;https://earthengine.google.com/\\&quot;\\u003eGoogle Earth Engine\\u003c/a\\u003e&quot;, &quot;detectRetina&quot;: false, &quot;maxNativeZoom&quot;: 18, &quot;maxZoom&quot;: 18, &quot;minZoom&quot;: 0, &quot;noWrap&quot;: false, &quot;opacity&quot;: 1, &quot;subdomains&quot;: &quot;abc&quot;, &quot;tms&quot;: false}\n",
              "            ).addTo(map_1aff7b89f1065745e9e57e54dbd6b0e8);\n",
              "        \n",
              "    \n",
              "            var layer_control_dc27e191ef9bb8ded06c7d0142875433 = {\n",
              "                base_layers : {\n",
              "                    &quot;openstreetmap&quot; : tile_layer_00f6e0175a359d7538645c226e877e6a,\n",
              "                },\n",
              "                overlays :  {\n",
              "                    &quot;image&quot; : tile_layer_1ea964469bee7b08179260c2d9117866,\n",
              "                    &quot;deforestation&quot; : tile_layer_7314e0a9d98bf9401ba10c373dcd5b24,\n",
              "                },\n",
              "            };\n",
              "            L.control.layers(\n",
              "                layer_control_dc27e191ef9bb8ded06c7d0142875433.base_layers,\n",
              "                layer_control_dc27e191ef9bb8ded06c7d0142875433.overlays,\n",
              "                {&quot;autoZIndex&quot;: true, &quot;collapsed&quot;: true, &quot;position&quot;: &quot;topright&quot;}\n",
              "            ).addTo(map_1aff7b89f1065745e9e57e54dbd6b0e8);\n",
              "        \n",
              "&lt;/script&gt;\n",
              "&lt;/html&gt;\" style=\"position:absolute;width:100%;height:100%;left:0;top:0;border:none !important;\" allowfullscreen webkitallowfullscreen mozallowfullscreen></iframe></div></div>"
            ]
          },
          "metadata": {}
        }
      ]
    },
    {
      "cell_type": "code",
      "source": [],
      "metadata": {
        "id": "ideGnN05I8WH"
      },
      "execution_count": 12,
      "outputs": []
    }
  ]
}