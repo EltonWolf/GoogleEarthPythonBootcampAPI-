{
  "nbformat": 4,
  "nbformat_minor": 0,
  "metadata": {
    "colab": {
      "provenance": [],
      "authorship_tag": "ABX9TyOyvPUXJk1GcCJXBd5xr9/W",
      "include_colab_link": true
    },
    "kernelspec": {
      "name": "python3",
      "display_name": "Python 3"
    },
    "language_info": {
      "name": "python"
    }
  },
  "cells": [
    {
      "cell_type": "markdown",
      "metadata": {
        "id": "view-in-github",
        "colab_type": "text"
      },
      "source": [
        "<a href=\"https://colab.research.google.com/github/EltonWolf/GoogleEarthPythonBootcampAPI-/blob/main/CART_Landsat_Training_California.ipynb\" target=\"_parent\"><img src=\"https://colab.research.google.com/assets/colab-badge.svg\" alt=\"Open In Colab\"/></a>"
      ]
    },
    {
      "cell_type": "markdown",
      "source": [
        "how to convert landsat data into clarssification using CART model of machine learning in python script"
      ],
      "metadata": {
        "id": "fpAQ6b-CtBNr"
      }
    },
    {
      "cell_type": "code",
      "execution_count": 1,
      "metadata": {
        "colab": {
          "base_uri": "https://localhost:8080/"
        },
        "id": "ls5YN6x3s_9R",
        "outputId": "47d114b2-2a3e-4eb4-ed81-5291eab4156f"
      },
      "outputs": [
        {
          "output_type": "stream",
          "name": "stdout",
          "text": [
            "To authorize access needed by Earth Engine, open the following URL in a web browser and follow the instructions. If the web browser does not start automatically, please manually browse the URL below.\n",
            "\n",
            "    https://code.earthengine.google.com/client-auth?scopes=https%3A//www.googleapis.com/auth/earthengine%20https%3A//www.googleapis.com/auth/devstorage.full_control&request_id=ROAX6kbNpR99L-4cDk2yFpvGSYYqxvMPhKxIMpOk-kQ&tc=1L40oXiZmMwRK6jiCG1g1k9vLHGflc9UfrfaptjkbWg&cc=zLdvLPb3Aju_re3s-nbkFK3hI_sPeUncr8AC2iEUAOY\n",
            "\n",
            "The authorization workflow will generate a code, which you should paste in the box below.\n",
            "Enter verification code: 4/1AfJohXn2GaJGsJEEi7eLmkNQv8cBPPjP-hVSnYg8evep30oeSbP40lP-AKc\n",
            "\n",
            "Successfully saved authorization token.\n"
          ]
        }
      ],
      "source": [
        "import ee\n",
        "ee.Authenticate()\n",
        "ee.Initialize()"
      ]
    },
    {
      "cell_type": "code",
      "source": [
        "# CART Supervised Classification with Landsat\n",
        "\n",
        "#ROI\n",
        "roi = ee.Geometry.Point([-122.26, 37.87])\n",
        "\n",
        "# Load Landsat 8 data\n",
        "image = ee.ImageCollection(\"LANDSAT/LC08/C02/T1_L2\")\\\n",
        ".filterDate('2017-01-01', '2017-12-31')\\\n",
        ".filterBounds(roi)\\\n",
        ".sort('CLOUD_COVER')\\\n",
        ".first()\n",
        "\n",
        "visParamsTrue = {'bands': ['SR_B4', 'SR_B3', 'SR_B2'], 'min': 0, 'max': 3000, 'gamma': 1.4}"
      ],
      "metadata": {
        "id": "oXMLeixftVd_"
      },
      "execution_count": 20,
      "outputs": []
    },
    {
      "cell_type": "markdown",
      "source": [
        "The format 'users/<username>/<asset_path>' is a common way to reference assets stored within a user's Earth Engine account, where <username> is replaced with the Earth Engine username and <asset_path> is the path to the specific asset. In this case, it seems to be related to training data for land cover classification"
      ],
      "metadata": {
        "id": "kNjmT-irx82o"
      }
    },
    {
      "cell_type": "code",
      "source": [
        "# Import training data\n",
        "training = ee.FeatureCollection('users/midekisa/Train_Cover_CA')\n",
        "\n",
        "label = 'Class'\n",
        "bands = ['SR_B1', 'SR_B2', 'SR_B3', 'SR_B4', 'SR_B5', 'SR_B7']\n",
        "input = image.select(bands)\n",
        "\n",
        "# Overlay the points on the imagery to get training.\n",
        "trainImage = input.sampleRegions(**{\n",
        "  'collection': training,\n",
        "  'properties': [label],\n",
        "  'scale': 30\n",
        "})\n",
        "\n",
        "trainingData = trainImage.randomColumn()\n",
        "trainSet = trainingData.filter(ee.Filter.lessThan('random', 0.8))\n",
        "testSet = trainingData.filter(ee.Filter.greaterThanOrEquals('random', 0.8))\n"
      ],
      "metadata": {
        "id": "lVS0T4S8t3jl"
      },
      "execution_count": 17,
      "outputs": []
    },
    {
      "cell_type": "code",
      "source": [
        "# Classification Model\n",
        "classifier = ee.Classifier.smileCart().train(trainSet, label, bands)\n",
        "\n",
        "# Classify the image\n",
        "classified = input.classify(classifier)\n",
        "#print(classified.getInfo())\n",
        "\n",
        "# Define a palette for the classification.\n",
        "landcoverPalette = [\n",
        "  '#0c2c84', #water (0)\n",
        "  '#e31a1c', #urban (1)\n",
        "  '#005a32', #forest (2)\n",
        "  'FF8000', #crop (3)\n",
        "  '969696', #barren (4)\n",
        "]"
      ],
      "metadata": {
        "id": "7u0bvBE0v7cA"
      },
      "execution_count": 18,
      "outputs": []
    },
    {
      "cell_type": "code",
      "source": [
        "\n",
        "# Import the Folium library.\n",
        "import folium\n",
        "\n",
        "# Define a method for displaying Earth Engine image tiles to folium map.\n",
        "def add_ee_layer(self, ee_image_object, vis_params, name):\n",
        "  map_id_dict = ee.Image(ee_image_object).getMapId(vis_params)\n",
        "  folium.raster_layers.TileLayer(\n",
        "    tiles = map_id_dict['tile_fetcher'].url_format,\n",
        "    attr = 'Map Data &copy; <a href=\"https://earthengine.google.com/\">Google Earth Engine</a>',\n",
        "    name = name,\n",
        "    overlay = True,\n",
        "    control = True\n",
        "  ).add_to(self)\n",
        "\n",
        "# Add EE drawing method to folium.\n",
        "folium.Map.add_ee_layer = add_ee_layer\n",
        "\n",
        "# Create a folium map object.\n",
        "my_map = folium.Map(location=[38, -124], zoom_start = 8)\n",
        "\n",
        "# Add the layer to the map object.\n",
        "my_map.add_ee_layer(image, visParamsTrue, \"Landsat 2021\")\n",
        "my_map.add_ee_layer(classified, {'palette': landcoverPalette, 'min': 0, 'max':4 }, 'classification')\n",
        "\n",
        "# Add a layer control panel to the map.\n",
        "my_map.add_child(folium.LayerControl())\n",
        "\n",
        "# Display the map.\n",
        "display(my_map)"
      ],
      "metadata": {
        "colab": {
          "base_uri": "https://localhost:8080/",
          "height": 395
        },
        "id": "rw1Kwtvlv-HG",
        "outputId": "807f912d-0563-4379-c55c-a51a5890458a"
      },
      "execution_count": 19,
      "outputs": [
        {
          "output_type": "display_data",
          "data": {
            "text/plain": [
              "<folium.folium.Map at 0x7de980fc6500>"
            ],
            "text/html": [
              "<div style=\"width:100%;\"><div style=\"position:relative;width:100%;height:0;padding-bottom:60%;\"><span style=\"color:#565656\">Make this Notebook Trusted to load map: File -> Trust Notebook</span><iframe srcdoc=\"&lt;!DOCTYPE html&gt;\n",
              "&lt;html&gt;\n",
              "&lt;head&gt;\n",
              "    \n",
              "    &lt;meta http-equiv=&quot;content-type&quot; content=&quot;text/html; charset=UTF-8&quot; /&gt;\n",
              "    \n",
              "        &lt;script&gt;\n",
              "            L_NO_TOUCH = false;\n",
              "            L_DISABLE_3D = false;\n",
              "        &lt;/script&gt;\n",
              "    \n",
              "    &lt;style&gt;html, body {width: 100%;height: 100%;margin: 0;padding: 0;}&lt;/style&gt;\n",
              "    &lt;style&gt;#map {position:absolute;top:0;bottom:0;right:0;left:0;}&lt;/style&gt;\n",
              "    &lt;script src=&quot;https://cdn.jsdelivr.net/npm/leaflet@1.9.3/dist/leaflet.js&quot;&gt;&lt;/script&gt;\n",
              "    &lt;script src=&quot;https://code.jquery.com/jquery-1.12.4.min.js&quot;&gt;&lt;/script&gt;\n",
              "    &lt;script src=&quot;https://cdn.jsdelivr.net/npm/bootstrap@5.2.2/dist/js/bootstrap.bundle.min.js&quot;&gt;&lt;/script&gt;\n",
              "    &lt;script src=&quot;https://cdnjs.cloudflare.com/ajax/libs/Leaflet.awesome-markers/2.0.2/leaflet.awesome-markers.js&quot;&gt;&lt;/script&gt;\n",
              "    &lt;link rel=&quot;stylesheet&quot; href=&quot;https://cdn.jsdelivr.net/npm/leaflet@1.9.3/dist/leaflet.css&quot;/&gt;\n",
              "    &lt;link rel=&quot;stylesheet&quot; href=&quot;https://cdn.jsdelivr.net/npm/bootstrap@5.2.2/dist/css/bootstrap.min.css&quot;/&gt;\n",
              "    &lt;link rel=&quot;stylesheet&quot; href=&quot;https://netdna.bootstrapcdn.com/bootstrap/3.0.0/css/bootstrap.min.css&quot;/&gt;\n",
              "    &lt;link rel=&quot;stylesheet&quot; href=&quot;https://cdn.jsdelivr.net/npm/@fortawesome/fontawesome-free@6.2.0/css/all.min.css&quot;/&gt;\n",
              "    &lt;link rel=&quot;stylesheet&quot; href=&quot;https://cdnjs.cloudflare.com/ajax/libs/Leaflet.awesome-markers/2.0.2/leaflet.awesome-markers.css&quot;/&gt;\n",
              "    &lt;link rel=&quot;stylesheet&quot; href=&quot;https://cdn.jsdelivr.net/gh/python-visualization/folium/folium/templates/leaflet.awesome.rotate.min.css&quot;/&gt;\n",
              "    \n",
              "            &lt;meta name=&quot;viewport&quot; content=&quot;width=device-width,\n",
              "                initial-scale=1.0, maximum-scale=1.0, user-scalable=no&quot; /&gt;\n",
              "            &lt;style&gt;\n",
              "                #map_83f801c82c514998445c788edb9e09c3 {\n",
              "                    position: relative;\n",
              "                    width: 100.0%;\n",
              "                    height: 100.0%;\n",
              "                    left: 0.0%;\n",
              "                    top: 0.0%;\n",
              "                }\n",
              "                .leaflet-container { font-size: 1rem; }\n",
              "            &lt;/style&gt;\n",
              "        \n",
              "&lt;/head&gt;\n",
              "&lt;body&gt;\n",
              "    \n",
              "    \n",
              "            &lt;div class=&quot;folium-map&quot; id=&quot;map_83f801c82c514998445c788edb9e09c3&quot; &gt;&lt;/div&gt;\n",
              "        \n",
              "&lt;/body&gt;\n",
              "&lt;script&gt;\n",
              "    \n",
              "    \n",
              "            var map_83f801c82c514998445c788edb9e09c3 = L.map(\n",
              "                &quot;map_83f801c82c514998445c788edb9e09c3&quot;,\n",
              "                {\n",
              "                    center: [38.0, -124.0],\n",
              "                    crs: L.CRS.EPSG3857,\n",
              "                    zoom: 8,\n",
              "                    zoomControl: true,\n",
              "                    preferCanvas: false,\n",
              "                }\n",
              "            );\n",
              "\n",
              "            \n",
              "\n",
              "        \n",
              "    \n",
              "            var tile_layer_108f3f5dfd1ce1b31cb570b1a6c9b7b2 = L.tileLayer(\n",
              "                &quot;https://{s}.tile.openstreetmap.org/{z}/{x}/{y}.png&quot;,\n",
              "                {&quot;attribution&quot;: &quot;Data by \\u0026copy; \\u003ca target=\\&quot;_blank\\&quot; href=\\&quot;http://openstreetmap.org\\&quot;\\u003eOpenStreetMap\\u003c/a\\u003e, under \\u003ca target=\\&quot;_blank\\&quot; href=\\&quot;http://www.openstreetmap.org/copyright\\&quot;\\u003eODbL\\u003c/a\\u003e.&quot;, &quot;detectRetina&quot;: false, &quot;maxNativeZoom&quot;: 18, &quot;maxZoom&quot;: 18, &quot;minZoom&quot;: 0, &quot;noWrap&quot;: false, &quot;opacity&quot;: 1, &quot;subdomains&quot;: &quot;abc&quot;, &quot;tms&quot;: false}\n",
              "            ).addTo(map_83f801c82c514998445c788edb9e09c3);\n",
              "        \n",
              "    \n",
              "            var tile_layer_ff1cd693deaaccb9b08668087297e69d = L.tileLayer(\n",
              "                &quot;https://earthengine.googleapis.com/v1/projects/earthengine-legacy/maps/eda4f7bd0b33b5ce3d5c4cdc99757415-f134b25bd502aab3c436da1b546c722b/tiles/{z}/{x}/{y}&quot;,\n",
              "                {&quot;attribution&quot;: &quot;Map Data \\u0026copy; \\u003ca href=\\&quot;https://earthengine.google.com/\\&quot;\\u003eGoogle Earth Engine\\u003c/a\\u003e&quot;, &quot;detectRetina&quot;: false, &quot;maxNativeZoom&quot;: 18, &quot;maxZoom&quot;: 18, &quot;minZoom&quot;: 0, &quot;noWrap&quot;: false, &quot;opacity&quot;: 1, &quot;subdomains&quot;: &quot;abc&quot;, &quot;tms&quot;: false}\n",
              "            ).addTo(map_83f801c82c514998445c788edb9e09c3);\n",
              "        \n",
              "    \n",
              "            var tile_layer_20675236259f4971cd09d7089d5ab81e = L.tileLayer(\n",
              "                &quot;https://earthengine.googleapis.com/v1/projects/earthengine-legacy/maps/5dd4d17db0e8cb30a63fd038053ce2c5-46757074108d1b83127b7daf1e9450ae/tiles/{z}/{x}/{y}&quot;,\n",
              "                {&quot;attribution&quot;: &quot;Map Data \\u0026copy; \\u003ca href=\\&quot;https://earthengine.google.com/\\&quot;\\u003eGoogle Earth Engine\\u003c/a\\u003e&quot;, &quot;detectRetina&quot;: false, &quot;maxNativeZoom&quot;: 18, &quot;maxZoom&quot;: 18, &quot;minZoom&quot;: 0, &quot;noWrap&quot;: false, &quot;opacity&quot;: 1, &quot;subdomains&quot;: &quot;abc&quot;, &quot;tms&quot;: false}\n",
              "            ).addTo(map_83f801c82c514998445c788edb9e09c3);\n",
              "        \n",
              "    \n",
              "            var layer_control_4492da6118ded008aacb46b47782d38c = {\n",
              "                base_layers : {\n",
              "                    &quot;openstreetmap&quot; : tile_layer_108f3f5dfd1ce1b31cb570b1a6c9b7b2,\n",
              "                },\n",
              "                overlays :  {\n",
              "                    &quot;Landsat 2021&quot; : tile_layer_ff1cd693deaaccb9b08668087297e69d,\n",
              "                    &quot;classification&quot; : tile_layer_20675236259f4971cd09d7089d5ab81e,\n",
              "                },\n",
              "            };\n",
              "            L.control.layers(\n",
              "                layer_control_4492da6118ded008aacb46b47782d38c.base_layers,\n",
              "                layer_control_4492da6118ded008aacb46b47782d38c.overlays,\n",
              "                {&quot;autoZIndex&quot;: true, &quot;collapsed&quot;: true, &quot;position&quot;: &quot;topright&quot;}\n",
              "            ).addTo(map_83f801c82c514998445c788edb9e09c3);\n",
              "        \n",
              "&lt;/script&gt;\n",
              "&lt;/html&gt;\" style=\"position:absolute;width:100%;height:100%;left:0;top:0;border:none !important;\" allowfullscreen webkitallowfullscreen mozallowfullscreen></iframe></div></div>"
            ]
          },
          "metadata": {}
        }
      ]
    },
    {
      "cell_type": "code",
      "source": [],
      "metadata": {
        "id": "j4ckIAsav_t0"
      },
      "execution_count": 15,
      "outputs": []
    }
  ]
}