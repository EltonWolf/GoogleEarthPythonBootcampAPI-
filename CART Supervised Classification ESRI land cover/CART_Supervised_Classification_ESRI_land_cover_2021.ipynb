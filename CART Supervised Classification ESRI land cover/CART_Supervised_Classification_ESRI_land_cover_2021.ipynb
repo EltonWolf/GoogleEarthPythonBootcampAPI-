{
  "nbformat": 4,
  "nbformat_minor": 0,
  "metadata": {
    "colab": {
      "provenance": []
    },
    "kernelspec": {
      "name": "python3",
      "display_name": "Python 3"
    },
    "language_info": {
      "name": "python"
    }
  },
  "cells": [
    {
      "cell_type": "markdown",
      "source": [
        "how to convert landsat data into clarssification using CART model of machine learning in python script"
      ],
      "metadata": {
        "id": "fpAQ6b-CtBNr"
      }
    },
    {
      "cell_type": "code",
      "execution_count": 1,
      "metadata": {
        "colab": {
          "base_uri": "https://localhost:8080/"
        },
        "id": "ls5YN6x3s_9R",
        "outputId": "fb8d4bbc-21a5-4684-e6b7-1ceb166c9e2b"
      },
      "outputs": [
        {
          "output_type": "stream",
          "name": "stdout",
          "text": [
            "To authorize access needed by Earth Engine, open the following URL in a web browser and follow the instructions. If the web browser does not start automatically, please manually browse the URL below.\n",
            "\n",
            "    https://code.earthengine.google.com/client-auth?scopes=https%3A//www.googleapis.com/auth/earthengine%20https%3A//www.googleapis.com/auth/devstorage.full_control&request_id=_ddf546rBQNtnKshNcHppM-WJop_OD6_8zQ05TT7mgI&tc=DZtgYNhZ_gNRo4ewZHbSLbwcdXV_qrH3SUBGrlGUDCs&cc=RIT_-MLGlIJE7Q3Hj_6o1cIiyTNq95mlEh16209RQ2k\n",
            "\n",
            "The authorization workflow will generate a code, which you should paste in the box below.\n",
            "Enter verification code: 4/1AfJohXk8Yvsk3VMhftUZlKY0Z1WgBzPXBXJ8ODkqDCux4sqJteWfS0INHLs\n",
            "\n",
            "Successfully saved authorization token.\n"
          ]
        }
      ],
      "source": [
        "import ee\n",
        "ee.Authenticate()\n",
        "ee.Initialize()"
      ]
    },
    {
      "cell_type": "code",
      "source": [
        "#ROI\n",
        "roi = ee.Geometry.Point([38.5914, 7.71])\n",
        "location = roi.centroid().coordinates().getInfo()[::-1]"
      ],
      "metadata": {
        "id": "j4ckIAsav_t0"
      },
      "execution_count": 2,
      "outputs": []
    },
    {
      "cell_type": "code",
      "source": [
        "# Load Landsat 8 data\n",
        "bands = ['B1', 'B2', 'B3', 'B4', 'B5', 'B7']\n",
        "image = ee.ImageCollection('LANDSAT/LC08/C01/T1_SR') \\\n",
        ".filterDate('2021-01-01', '2021-12-31') \\\n",
        ".filterBounds(roi) \\\n",
        ".sort('CLOUD_COVER') \\\n",
        ".first()"
      ],
      "metadata": {
        "id": "ANr1gh6C3TfQ"
      },
      "execution_count": 3,
      "outputs": []
    },
    {
      "cell_type": "code",
      "source": [
        "#Import ESRI Data\n",
        "land_cover = ee.ImageCollection(\"projects/sat-io/open-datasets/landcover/ESRI_Global-LULC_10m\").mosaic().clip(image.geometry())\n",
        "label = 'b1'"
      ],
      "metadata": {
        "id": "r9TGlQdR3Wio"
      },
      "execution_count": 4,
      "outputs": []
    },
    {
      "cell_type": "code",
      "source": [
        "# Sample the input imagery to get a FeatureCollection of training data.\n",
        "sample = image.addBands(land_cover).sample(**{\n",
        "  'region': image.geometry(),\n",
        "  'numPixels': 1000,\n",
        "  'seed': 0\n",
        "})\n",
        "\n",
        "#This step creates a random sample of 1000 pixels from the input image within the specified region (image.geometry()). Bands from land_cover are added to each pixel in the sample.\n"
      ],
      "metadata": {
        "id": "SwF9gIQR4Dj4"
      },
      "execution_count": 5,
      "outputs": []
    },
    {
      "cell_type": "code",
      "source": [
        "# Add a random value field to the sample and use it to approximately split 80%\n",
        "# of the features into a training set and 20% into a validation set.\n",
        "sample = sample.randomColumn() #A random column is added to the sample, which will be used later to split the data into training and validation sets.\n",
        "\n",
        "\n",
        "trainingSample = sample.filter('random <= 0.8')\n",
        "validationSample = sample.filter('random > 0.8')\n",
        "#The samples are split into approximately 80% for training (trainingSample) and 20% for validation (validationSample) based on the random column values.\n"
      ],
      "metadata": {
        "id": "6Vy2IuRJ4W12"
      },
      "execution_count": 6,
      "outputs": []
    },
    {
      "cell_type": "code",
      "source": [
        "# Train a 10-tree random forest classifier from the training sample.\n",
        "trainedClassifier = ee.Classifier.smileRandomForest(10).train(**{\n",
        "  'features': trainingSample,\n",
        "  'classProperty': label,\n",
        "  'inputProperties': bands\n",
        "})\n",
        "\n",
        "#A random forest classifier with 10 trees is trained using the features from the training sample (trainingSample). The classProperty parameter specifies the property containing the class labels, and inputProperties specifies the input bands."
      ],
      "metadata": {
        "id": "kf7VRU7J5JGt"
      },
      "execution_count": 7,
      "outputs": []
    },
    {
      "cell_type": "code",
      "source": [
        "# Classify the reflectance image from the trained classifier.\n",
        "model = image.classify(trainedClassifier)"
      ],
      "metadata": {
        "id": "cugKiDgK5bBM"
      },
      "execution_count": 8,
      "outputs": []
    },
    {
      "cell_type": "code",
      "source": [
        "# Import the Folium library.\n",
        "import folium\n",
        "\n",
        "# Define a method for displaying Earth Engine image tiles to folium map.\n",
        "def addLayer (self, ee_image_object, vis_params, name):\n",
        "  map_id_dict = ee.Image(ee_image_object).getMapId(vis_params)\n",
        "  folium.raster_layers.TileLayer(\n",
        "    tiles = map_id_dict['tile_fetcher'].url_format,\n",
        "    attr = 'Map Data &copy; <a href=\"https://earthengine.google.com/\">Google Earth Engine</a>',\n",
        "    name = name,\n",
        "    overlay = True,\n",
        "    control = True\n",
        "  ).add_to(self)\n",
        "\n",
        "# Add EE drawing method to folium.\n",
        "folium.Map.addLayer = addLayer\n",
        "\n",
        "# Create the map object.\n",
        "Map = folium.Map(location=location, zoom_start = 8.5)\n",
        "\n",
        "# Add base map\n",
        "basemaps = {'Google Satellite Hybrid': folium.TileLayer(\n",
        "tiles = 'https://mt1.google.com/vt/lyrs=s&x={x}&y={y}&z={z}',\n",
        "attr = 'Google',\n",
        "name = 'Google Satellite Hybrid',\n",
        "overlay = True,\n",
        "control = True\n",
        ")}\n",
        "basemaps['Google Satellite Hybrid'].add_to(Map)"
      ],
      "metadata": {
        "colab": {
          "base_uri": "https://localhost:8080/"
        },
        "id": "XsGYygm35ceZ",
        "outputId": "c345f35a-bdab-4d2a-fcc8-cd620ad8c5d0"
      },
      "execution_count": 12,
      "outputs": [
        {
          "output_type": "execute_result",
          "data": {
            "text/plain": [
              "<folium.raster_layers.TileLayer at 0x7f08c8452cb0>"
            ]
          },
          "metadata": {},
          "execution_count": 12
        }
      ]
    },
    {
      "cell_type": "code",
      "source": [
        "# Define a dictionary which will be used to make legend and visualize image on map\n",
        "dict = {\n",
        "  \"names\": [\n",
        "    \"Water\",\n",
        "    \"Trees\",\n",
        "    \"Grass\",\n",
        "    \"Flooded Vegetation\",\n",
        "    \"Crops\",\n",
        "    \"Scrub/Shrub\",\n",
        "    \"Built Area\",\n",
        "    \"Bare Ground\",\n",
        "    \"Snow/Ice\",\n",
        "    \"Clouds\"\n",
        "  ],\n",
        "\n",
        "  \"colors\": [\n",
        "    \"#1A5BAB\",\n",
        "    \"#358221\",\n",
        "    \"#A7D282\",\n",
        "    \"#87D19E\",\n",
        "    \"#FFDB5C\",\n",
        "    \"#EECFA8\",\n",
        "    \"#ED022A\",\n",
        "    \"#EDE9E4\",\n",
        "    \"#F2FAFF\",\n",
        "    \"#C8C8C8\"\n",
        "  ]}\n",
        "\n",
        "# Add land cover to the map object.\n",
        "Map.addLayer(land_cover, {'min':1, 'max':10, 'palette':dict['colors']}, 'ESRI LULC 10m')\n",
        "Map.addLayer(model, {'min':1, 'max':10, 'palette':dict['colors']},'Classified 2021')\n",
        "\n",
        "visParamsTrue = {'bands': ['B4',  'B3',  'B2'], 'min': 0, 'max': 3000, 'gamma': 1.4}\n",
        "Map.addLayer(image, visParamsTrue, \"Landsat 2021\")\n",
        "\n",
        "# Add a layer control panel to the map.\n",
        "Map.add_child(folium.LayerControl())\n",
        "\n",
        "# Display the map.\n",
        "display(Map)"
      ],
      "metadata": {
        "colab": {
          "base_uri": "https://localhost:8080/",
          "height": 903
        },
        "id": "4S9FB_7K7248",
        "outputId": "5115b87d-471b-43ab-ca41-a172c6728061"
      },
      "execution_count": 13,
      "outputs": [
        {
          "output_type": "display_data",
          "data": {
            "text/plain": [
              "<folium.folium.Map at 0x7f08a9729330>"
            ],
            "text/html": [
              "<div style=\"width:100%;\"><div style=\"position:relative;width:100%;height:0;padding-bottom:60%;\"><span style=\"color:#565656\">Make this Notebook Trusted to load map: File -> Trust Notebook</span><iframe srcdoc=\"&lt;!DOCTYPE html&gt;\n",
              "&lt;html&gt;\n",
              "&lt;head&gt;\n",
              "    \n",
              "    &lt;meta http-equiv=&quot;content-type&quot; content=&quot;text/html; charset=UTF-8&quot; /&gt;\n",
              "    \n",
              "        &lt;script&gt;\n",
              "            L_NO_TOUCH = false;\n",
              "            L_DISABLE_3D = false;\n",
              "        &lt;/script&gt;\n",
              "    \n",
              "    &lt;style&gt;html, body {width: 100%;height: 100%;margin: 0;padding: 0;}&lt;/style&gt;\n",
              "    &lt;style&gt;#map {position:absolute;top:0;bottom:0;right:0;left:0;}&lt;/style&gt;\n",
              "    &lt;script src=&quot;https://cdn.jsdelivr.net/npm/leaflet@1.9.3/dist/leaflet.js&quot;&gt;&lt;/script&gt;\n",
              "    &lt;script src=&quot;https://code.jquery.com/jquery-1.12.4.min.js&quot;&gt;&lt;/script&gt;\n",
              "    &lt;script src=&quot;https://cdn.jsdelivr.net/npm/bootstrap@5.2.2/dist/js/bootstrap.bundle.min.js&quot;&gt;&lt;/script&gt;\n",
              "    &lt;script src=&quot;https://cdnjs.cloudflare.com/ajax/libs/Leaflet.awesome-markers/2.0.2/leaflet.awesome-markers.js&quot;&gt;&lt;/script&gt;\n",
              "    &lt;link rel=&quot;stylesheet&quot; href=&quot;https://cdn.jsdelivr.net/npm/leaflet@1.9.3/dist/leaflet.css&quot;/&gt;\n",
              "    &lt;link rel=&quot;stylesheet&quot; href=&quot;https://cdn.jsdelivr.net/npm/bootstrap@5.2.2/dist/css/bootstrap.min.css&quot;/&gt;\n",
              "    &lt;link rel=&quot;stylesheet&quot; href=&quot;https://netdna.bootstrapcdn.com/bootstrap/3.0.0/css/bootstrap.min.css&quot;/&gt;\n",
              "    &lt;link rel=&quot;stylesheet&quot; href=&quot;https://cdn.jsdelivr.net/npm/@fortawesome/fontawesome-free@6.2.0/css/all.min.css&quot;/&gt;\n",
              "    &lt;link rel=&quot;stylesheet&quot; href=&quot;https://cdnjs.cloudflare.com/ajax/libs/Leaflet.awesome-markers/2.0.2/leaflet.awesome-markers.css&quot;/&gt;\n",
              "    &lt;link rel=&quot;stylesheet&quot; href=&quot;https://cdn.jsdelivr.net/gh/python-visualization/folium/folium/templates/leaflet.awesome.rotate.min.css&quot;/&gt;\n",
              "    \n",
              "            &lt;meta name=&quot;viewport&quot; content=&quot;width=device-width,\n",
              "                initial-scale=1.0, maximum-scale=1.0, user-scalable=no&quot; /&gt;\n",
              "            &lt;style&gt;\n",
              "                #map_7db93924a2de582ebe45707a9527d856 {\n",
              "                    position: relative;\n",
              "                    width: 100.0%;\n",
              "                    height: 100.0%;\n",
              "                    left: 0.0%;\n",
              "                    top: 0.0%;\n",
              "                }\n",
              "                .leaflet-container { font-size: 1rem; }\n",
              "            &lt;/style&gt;\n",
              "        \n",
              "&lt;/head&gt;\n",
              "&lt;body&gt;\n",
              "    \n",
              "    \n",
              "            &lt;div class=&quot;folium-map&quot; id=&quot;map_7db93924a2de582ebe45707a9527d856&quot; &gt;&lt;/div&gt;\n",
              "        \n",
              "&lt;/body&gt;\n",
              "&lt;script&gt;\n",
              "    \n",
              "    \n",
              "            var map_7db93924a2de582ebe45707a9527d856 = L.map(\n",
              "                &quot;map_7db93924a2de582ebe45707a9527d856&quot;,\n",
              "                {\n",
              "                    center: [7.709999999999999, 38.59140000000001],\n",
              "                    crs: L.CRS.EPSG3857,\n",
              "                    zoom: 8.5,\n",
              "                    zoomControl: true,\n",
              "                    preferCanvas: false,\n",
              "                }\n",
              "            );\n",
              "\n",
              "            \n",
              "\n",
              "        \n",
              "    \n",
              "            var tile_layer_6c62ce332c95cb2e6e8669f97838b86c = L.tileLayer(\n",
              "                &quot;https://{s}.tile.openstreetmap.org/{z}/{x}/{y}.png&quot;,\n",
              "                {&quot;attribution&quot;: &quot;Data by \\u0026copy; \\u003ca target=\\&quot;_blank\\&quot; href=\\&quot;http://openstreetmap.org\\&quot;\\u003eOpenStreetMap\\u003c/a\\u003e, under \\u003ca target=\\&quot;_blank\\&quot; href=\\&quot;http://www.openstreetmap.org/copyright\\&quot;\\u003eODbL\\u003c/a\\u003e.&quot;, &quot;detectRetina&quot;: false, &quot;maxNativeZoom&quot;: 18, &quot;maxZoom&quot;: 18, &quot;minZoom&quot;: 0, &quot;noWrap&quot;: false, &quot;opacity&quot;: 1, &quot;subdomains&quot;: &quot;abc&quot;, &quot;tms&quot;: false}\n",
              "            ).addTo(map_7db93924a2de582ebe45707a9527d856);\n",
              "        \n",
              "    \n",
              "            var tile_layer_eb13394027996b069f291881276503b0 = L.tileLayer(\n",
              "                &quot;https://mt1.google.com/vt/lyrs=s\\u0026x={x}\\u0026y={y}\\u0026z={z}&quot;,\n",
              "                {&quot;attribution&quot;: &quot;Google&quot;, &quot;detectRetina&quot;: false, &quot;maxNativeZoom&quot;: 18, &quot;maxZoom&quot;: 18, &quot;minZoom&quot;: 0, &quot;noWrap&quot;: false, &quot;opacity&quot;: 1, &quot;subdomains&quot;: &quot;abc&quot;, &quot;tms&quot;: false}\n",
              "            ).addTo(map_7db93924a2de582ebe45707a9527d856);\n",
              "        \n",
              "    \n",
              "            var tile_layer_c427e463aa4a06e2114b7305317d1aee = L.tileLayer(\n",
              "                &quot;https://earthengine.googleapis.com/v1/projects/earthengine-legacy/maps/cd21f82408ef3ab13584392f68064a79-1b9e143d3cb3cda6fdc7be963863d948/tiles/{z}/{x}/{y}&quot;,\n",
              "                {&quot;attribution&quot;: &quot;Map Data \\u0026copy; \\u003ca href=\\&quot;https://earthengine.google.com/\\&quot;\\u003eGoogle Earth Engine\\u003c/a\\u003e&quot;, &quot;detectRetina&quot;: false, &quot;maxNativeZoom&quot;: 18, &quot;maxZoom&quot;: 18, &quot;minZoom&quot;: 0, &quot;noWrap&quot;: false, &quot;opacity&quot;: 1, &quot;subdomains&quot;: &quot;abc&quot;, &quot;tms&quot;: false}\n",
              "            ).addTo(map_7db93924a2de582ebe45707a9527d856);\n",
              "        \n",
              "    \n",
              "            var tile_layer_33295b104ce309213e06f72437264f8b = L.tileLayer(\n",
              "                &quot;https://earthengine.googleapis.com/v1/projects/earthengine-legacy/maps/0dd7ab55126b24f2130797b503d19d80-eae83e9f50928c270172868f1cda85c1/tiles/{z}/{x}/{y}&quot;,\n",
              "                {&quot;attribution&quot;: &quot;Map Data \\u0026copy; \\u003ca href=\\&quot;https://earthengine.google.com/\\&quot;\\u003eGoogle Earth Engine\\u003c/a\\u003e&quot;, &quot;detectRetina&quot;: false, &quot;maxNativeZoom&quot;: 18, &quot;maxZoom&quot;: 18, &quot;minZoom&quot;: 0, &quot;noWrap&quot;: false, &quot;opacity&quot;: 1, &quot;subdomains&quot;: &quot;abc&quot;, &quot;tms&quot;: false}\n",
              "            ).addTo(map_7db93924a2de582ebe45707a9527d856);\n",
              "        \n",
              "    \n",
              "            var tile_layer_8231af7b6f0049a90c1c3f450f372b52 = L.tileLayer(\n",
              "                &quot;https://earthengine.googleapis.com/v1/projects/earthengine-legacy/maps/895b26538d5405543d8b9d266bc98b2f-e3dfb41a5641db1517fe68b0c2ddf007/tiles/{z}/{x}/{y}&quot;,\n",
              "                {&quot;attribution&quot;: &quot;Map Data \\u0026copy; \\u003ca href=\\&quot;https://earthengine.google.com/\\&quot;\\u003eGoogle Earth Engine\\u003c/a\\u003e&quot;, &quot;detectRetina&quot;: false, &quot;maxNativeZoom&quot;: 18, &quot;maxZoom&quot;: 18, &quot;minZoom&quot;: 0, &quot;noWrap&quot;: false, &quot;opacity&quot;: 1, &quot;subdomains&quot;: &quot;abc&quot;, &quot;tms&quot;: false}\n",
              "            ).addTo(map_7db93924a2de582ebe45707a9527d856);\n",
              "        \n",
              "    \n",
              "            var layer_control_bb1f12bad2d80358ba492e0492fca190 = {\n",
              "                base_layers : {\n",
              "                    &quot;openstreetmap&quot; : tile_layer_6c62ce332c95cb2e6e8669f97838b86c,\n",
              "                },\n",
              "                overlays :  {\n",
              "                    &quot;Google Satellite Hybrid&quot; : tile_layer_eb13394027996b069f291881276503b0,\n",
              "                    &quot;ESRI LULC 10m&quot; : tile_layer_c427e463aa4a06e2114b7305317d1aee,\n",
              "                    &quot;Classified 2021&quot; : tile_layer_33295b104ce309213e06f72437264f8b,\n",
              "                    &quot;Landsat 2021&quot; : tile_layer_8231af7b6f0049a90c1c3f450f372b52,\n",
              "                },\n",
              "            };\n",
              "            L.control.layers(\n",
              "                layer_control_bb1f12bad2d80358ba492e0492fca190.base_layers,\n",
              "                layer_control_bb1f12bad2d80358ba492e0492fca190.overlays,\n",
              "                {&quot;autoZIndex&quot;: true, &quot;collapsed&quot;: true, &quot;position&quot;: &quot;topright&quot;}\n",
              "            ).addTo(map_7db93924a2de582ebe45707a9527d856);\n",
              "        \n",
              "&lt;/script&gt;\n",
              "&lt;/html&gt;\" style=\"position:absolute;width:100%;height:100%;left:0;top:0;border:none !important;\" allowfullscreen webkitallowfullscreen mozallowfullscreen></iframe></div></div>"
            ]
          },
          "metadata": {}
        }
      ]
    },
    {
      "cell_type": "code",
      "source": [],
      "metadata": {
        "id": "TsRfr9-b8Aga"
      },
      "execution_count": null,
      "outputs": []
    }
  ]
}